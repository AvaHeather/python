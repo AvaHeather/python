{
 "cells": [
  {
   "cell_type": "markdown",
   "metadata": {},
   "source": [
    "### Name: Shelmith Nyagathiri Kariuki\n",
    "### Description: This script describes analysis of a simulated dataset (wafanyikazi)."
   ]
  },
  {
   "cell_type": "code",
   "execution_count": 6,
   "metadata": {},
   "outputs": [],
   "source": [
    "#1. Import the libraries needed\n",
    "import numpy as np # numpy is used for mathematical operations\n",
    "import pandas as pd # pandas is used for manipulation of dataframes\n",
    "import os # os is used for inspecting and setting the working directory\n",
    "import matplotlib.pyplot as plt # used for plotting, especially setting the plot figure properties\n",
    "import seaborn as sns"
   ]
  },
  {
   "cell_type": "code",
   "execution_count": 10,
   "metadata": {},
   "outputs": [
    {
     "data": {
      "text/plain": [
       "'/Users/busara/Documents/Personal Development/Python'"
      ]
     },
     "execution_count": 10,
     "metadata": {},
     "output_type": "execute_result"
    }
   ],
   "source": [
    "#2. Inspecting and setting the working environment\n",
    "os.getcwd()\n",
    "    ### We need to change the working directory, so that we are able to save the outputs that we generate.\n",
    "os.chdir(\"/Users/busara/Documents/Personal Development/Python\")\n",
    "\n",
    "os.getcwd()\n"
   ]
  },
  {
   "cell_type": "code",
   "execution_count": 16,
   "metadata": {},
   "outputs": [],
   "source": [
    "#3. Generate variables that will constitute the wafanyakazi dataset\n",
    "subject_id = np.random.choice(list(range(10000,20000,1)),size=500,replace=False)\n",
    "gender = np.random.choice(list([\"Male\",\"Female\"]),size = 500,replace=True)\n",
    "age = np.random.choice(list(range(18,51,1)),size = 500,replace=True)\n",
    "department = np.random.choice([\"Data\",\"Operations\",\"Finance\",\"Research Analyst\",\"Associate\"],size = 500,replace=True)\n",
    "role = np.random.choice([\"Junior\",\"Mid\",\"Senior\"],size = 500, replace = True)\n",
    "income = np.random.choice(list(range(1000,10000,217)),size = 500, replace=True)\n",
    "marital_status = np.random.choice([\"Single\",\"Married\",\"Divorced\"],size = 500, replace = True)\n",
    "county = np.random.choice([\"Nyeri\",\"Kisumu\",\"Taita\",\"Embu\",\"Kirinyaga\",\"Laikipia\",\"Wajir\",\"Mombasa\",\"Lamu\",\n",
    "                           \"Kiambu\",\"Nairobi\"],size = 500, replace=True)\n",
    "leave_days = np.random.choice(list(range(0,25,1)),size = 500, replace=True)\n",
    "promotion = np.random.choice([\"Yes\",\"No\"],size = 500, replace=True)"
   ]
  },
  {
   "cell_type": "code",
   "execution_count": 20,
   "metadata": {},
   "outputs": [
    {
     "data": {
      "text/html": [
       "<div>\n",
       "<style scoped>\n",
       "    .dataframe tbody tr th:only-of-type {\n",
       "        vertical-align: middle;\n",
       "    }\n",
       "\n",
       "    .dataframe tbody tr th {\n",
       "        vertical-align: top;\n",
       "    }\n",
       "\n",
       "    .dataframe thead th {\n",
       "        text-align: right;\n",
       "    }\n",
       "</style>\n",
       "<table border=\"1\" class=\"dataframe\">\n",
       "  <thead>\n",
       "    <tr style=\"text-align: right;\">\n",
       "      <th></th>\n",
       "      <th>Sid</th>\n",
       "      <th>Gender</th>\n",
       "      <th>Age</th>\n",
       "      <th>Department</th>\n",
       "      <th>Role</th>\n",
       "      <th>Income</th>\n",
       "      <th>Marital_Status</th>\n",
       "      <th>County</th>\n",
       "      <th>Leave_Days</th>\n",
       "      <th>Promotion</th>\n",
       "    </tr>\n",
       "  </thead>\n",
       "  <tbody>\n",
       "    <tr>\n",
       "      <th>0</th>\n",
       "      <td>15786</td>\n",
       "      <td>Female</td>\n",
       "      <td>37</td>\n",
       "      <td>Associate</td>\n",
       "      <td>Mid</td>\n",
       "      <td>3604</td>\n",
       "      <td>Divorced</td>\n",
       "      <td>Kirinyaga</td>\n",
       "      <td>13</td>\n",
       "      <td>No</td>\n",
       "    </tr>\n",
       "    <tr>\n",
       "      <th>1</th>\n",
       "      <td>13166</td>\n",
       "      <td>Male</td>\n",
       "      <td>46</td>\n",
       "      <td>Data</td>\n",
       "      <td>Junior</td>\n",
       "      <td>3821</td>\n",
       "      <td>Single</td>\n",
       "      <td>Nairobi</td>\n",
       "      <td>19</td>\n",
       "      <td>Yes</td>\n",
       "    </tr>\n",
       "    <tr>\n",
       "      <th>2</th>\n",
       "      <td>16569</td>\n",
       "      <td>Male</td>\n",
       "      <td>42</td>\n",
       "      <td>Operations</td>\n",
       "      <td>Senior</td>\n",
       "      <td>6859</td>\n",
       "      <td>Divorced</td>\n",
       "      <td>Nairobi</td>\n",
       "      <td>0</td>\n",
       "      <td>No</td>\n",
       "    </tr>\n",
       "    <tr>\n",
       "      <th>3</th>\n",
       "      <td>12371</td>\n",
       "      <td>Male</td>\n",
       "      <td>40</td>\n",
       "      <td>Research Analyst</td>\n",
       "      <td>Mid</td>\n",
       "      <td>5340</td>\n",
       "      <td>Divorced</td>\n",
       "      <td>Taita</td>\n",
       "      <td>17</td>\n",
       "      <td>No</td>\n",
       "    </tr>\n",
       "    <tr>\n",
       "      <th>4</th>\n",
       "      <td>11289</td>\n",
       "      <td>Male</td>\n",
       "      <td>34</td>\n",
       "      <td>Finance</td>\n",
       "      <td>Junior</td>\n",
       "      <td>4472</td>\n",
       "      <td>Divorced</td>\n",
       "      <td>Taita</td>\n",
       "      <td>17</td>\n",
       "      <td>No</td>\n",
       "    </tr>\n",
       "    <tr>\n",
       "      <th>5</th>\n",
       "      <td>15759</td>\n",
       "      <td>Female</td>\n",
       "      <td>38</td>\n",
       "      <td>Research Analyst</td>\n",
       "      <td>Junior</td>\n",
       "      <td>2736</td>\n",
       "      <td>Single</td>\n",
       "      <td>Kisumu</td>\n",
       "      <td>0</td>\n",
       "      <td>Yes</td>\n",
       "    </tr>\n",
       "    <tr>\n",
       "      <th>6</th>\n",
       "      <td>15459</td>\n",
       "      <td>Male</td>\n",
       "      <td>22</td>\n",
       "      <td>Associate</td>\n",
       "      <td>Junior</td>\n",
       "      <td>5123</td>\n",
       "      <td>Divorced</td>\n",
       "      <td>Kirinyaga</td>\n",
       "      <td>3</td>\n",
       "      <td>Yes</td>\n",
       "    </tr>\n",
       "    <tr>\n",
       "      <th>7</th>\n",
       "      <td>19697</td>\n",
       "      <td>Male</td>\n",
       "      <td>50</td>\n",
       "      <td>Operations</td>\n",
       "      <td>Junior</td>\n",
       "      <td>8812</td>\n",
       "      <td>Single</td>\n",
       "      <td>Kirinyaga</td>\n",
       "      <td>8</td>\n",
       "      <td>No</td>\n",
       "    </tr>\n",
       "    <tr>\n",
       "      <th>8</th>\n",
       "      <td>17566</td>\n",
       "      <td>Female</td>\n",
       "      <td>37</td>\n",
       "      <td>Operations</td>\n",
       "      <td>Mid</td>\n",
       "      <td>2519</td>\n",
       "      <td>Single</td>\n",
       "      <td>Nairobi</td>\n",
       "      <td>4</td>\n",
       "      <td>No</td>\n",
       "    </tr>\n",
       "    <tr>\n",
       "      <th>9</th>\n",
       "      <td>11919</td>\n",
       "      <td>Female</td>\n",
       "      <td>48</td>\n",
       "      <td>Operations</td>\n",
       "      <td>Senior</td>\n",
       "      <td>5991</td>\n",
       "      <td>Married</td>\n",
       "      <td>Lamu</td>\n",
       "      <td>8</td>\n",
       "      <td>No</td>\n",
       "    </tr>\n",
       "  </tbody>\n",
       "</table>\n",
       "</div>"
      ],
      "text/plain": [
       "     Sid  Gender  Age        Department    Role  Income Marital_Status  \\\n",
       "0  15786  Female   37         Associate     Mid    3604       Divorced   \n",
       "1  13166    Male   46              Data  Junior    3821         Single   \n",
       "2  16569    Male   42        Operations  Senior    6859       Divorced   \n",
       "3  12371    Male   40  Research Analyst     Mid    5340       Divorced   \n",
       "4  11289    Male   34           Finance  Junior    4472       Divorced   \n",
       "5  15759  Female   38  Research Analyst  Junior    2736         Single   \n",
       "6  15459    Male   22         Associate  Junior    5123       Divorced   \n",
       "7  19697    Male   50        Operations  Junior    8812         Single   \n",
       "8  17566  Female   37        Operations     Mid    2519         Single   \n",
       "9  11919  Female   48        Operations  Senior    5991        Married   \n",
       "\n",
       "      County  Leave_Days Promotion  \n",
       "0  Kirinyaga          13        No  \n",
       "1    Nairobi          19       Yes  \n",
       "2    Nairobi           0        No  \n",
       "3      Taita          17        No  \n",
       "4      Taita          17        No  \n",
       "5     Kisumu           0       Yes  \n",
       "6  Kirinyaga           3       Yes  \n",
       "7  Kirinyaga           8        No  \n",
       "8    Nairobi           4        No  \n",
       "9       Lamu           8        No  "
      ]
     },
     "execution_count": 20,
     "metadata": {},
     "output_type": "execute_result"
    }
   ],
   "source": [
    "#4. Generate the wafanyikazi dataset and save it externally\n",
    "\n",
    "wafanyikazi =pd.DataFrame({\"Sid\":subject_id,\"Gender\":gender,\"Age\":age,\"Department\":department,\n",
    "                           \"Role\": role,\"Income\": income,\"Marital_Status\":marital_status,\"County\":county,\n",
    "                           \"Leave_Days\": leave_days,\"Promotion\": promotion})\n",
    "## Inspecting the first 10 rows of the dataset\n",
    "wafanyikazi.head(n = 10)"
   ]
  },
  {
   "cell_type": "code",
   "execution_count": 23,
   "metadata": {},
   "outputs": [
    {
     "name": "stdout",
     "output_type": "stream",
     "text": [
      "The wafanyikazi dataset has 500 rows and 10 columns\n"
     ]
    }
   ],
   "source": [
    "#5. Outline the number of rows and columns in the dataset\n",
    "wafanyikazi.shape\n",
    "\n",
    "print(\"The wafanyikazi dataset has %d rows and %d columns\" %(wafanyikazi.shape[0],wafanyikazi.shape[1]))"
   ]
  },
  {
   "cell_type": "code",
   "execution_count": 31,
   "metadata": {},
   "outputs": [
    {
     "data": {
      "text/plain": [
       "Sid                int64\n",
       "Gender            object\n",
       "Age                int64\n",
       "Department        object\n",
       "Role              object\n",
       "Income             int64\n",
       "Marital_Status    object\n",
       "County            object\n",
       "Leave_Days         int64\n",
       "Promotion         object\n",
       "dtype: object"
      ]
     },
     "execution_count": 31,
     "metadata": {},
     "output_type": "execute_result"
    }
   ],
   "source": [
    "#6. Inspect the data types of the variables in the dataset\n",
    "wafanyikazi.dtypes"
   ]
  },
  {
   "cell_type": "code",
   "execution_count": 34,
   "metadata": {},
   "outputs": [
    {
     "data": {
      "text/plain": [
       "Sid                  int64\n",
       "Gender            category\n",
       "Age                  int64\n",
       "Department        category\n",
       "Role              category\n",
       "Income               int64\n",
       "Marital_Status    category\n",
       "County            category\n",
       "Leave_Days           int64\n",
       "Promotion         category\n",
       "dtype: object"
      ]
     },
     "execution_count": 34,
     "metadata": {},
     "output_type": "execute_result"
    }
   ],
   "source": [
    "#7. Convert the non-numerical variables to categorical. \n",
    "\n",
    "for col in [\"Gender\",\"Department\",\"Role\",\"Marital_Status\",\"County\",\"Promotion\"]:\n",
    "    wafanyikazi[col] = wafanyikazi[col].astype('category')\n",
    "## inspect if the loop has worked.\n",
    "wafanyikazi.dtypes    \n"
   ]
  },
  {
   "cell_type": "code",
   "execution_count": 5,
   "metadata": {},
   "outputs": [],
   "source": [
    "#8. Generate tables that display the number of entries per category, for each categorical variable"
   ]
  },
  {
   "cell_type": "code",
   "execution_count": null,
   "metadata": {},
   "outputs": [],
   "source": [
    "#9. Generate tables that display various summary statistics, for each continuous variable"
   ]
  }
 ],
 "metadata": {
  "kernelspec": {
   "display_name": "Python 3",
   "language": "python",
   "name": "python3"
  },
  "language_info": {
   "codemirror_mode": {
    "name": "ipython",
    "version": 3
   },
   "file_extension": ".py",
   "mimetype": "text/x-python",
   "name": "python",
   "nbconvert_exporter": "python",
   "pygments_lexer": "ipython3",
   "version": "3.6.5"
  }
 },
 "nbformat": 4,
 "nbformat_minor": 2
}
